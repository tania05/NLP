{
 "cells": [
  {
   "cell_type": "code",
   "execution_count": 1,
   "metadata": {},
   "outputs": [
    {
     "name": "stderr",
     "output_type": "stream",
     "text": [
      "Using TensorFlow backend.\n"
     ]
    }
   ],
   "source": [
    "import os\n",
    "import sys\n",
    "import numpy as np\n",
    "from keras.preprocessing.text import Tokenizer\n",
    "from keras.preprocessing.sequence import pad_sequences\n",
    "from keras import utils\n",
    "from keras.layers import Dense, Input, Flatten, LSTM, GRU\n",
    "from keras.layers import Conv1D, MaxPooling1D, Embedding, GlobalAveragePooling1D\n",
    "from keras.models import Model"
   ]
  },
  {
   "cell_type": "code",
   "execution_count": 2,
   "metadata": {
    "collapsed": true
   },
   "outputs": [],
   "source": [
    "BASE_DIR = '/home/ubuntu/'\n",
    "GLOVE_DIR = BASE_DIR + '/glove.6B/'\n",
    "TEXT_DATA_DIR = BASE_DIR + '/20_newsgroup/'\n",
    "MAX_SEQUENCE_LENGTH = 25000\n",
    "MAX_NB_WORDS = 50000\n",
    "EMBEDDING_DIM = 50\n",
    "VALIDATION_SPLIT = 0.1\n",
    "GLOVE = True"
   ]
  },
  {
   "cell_type": "code",
   "execution_count": 3,
   "metadata": {},
   "outputs": [
    {
     "name": "stdout",
     "output_type": "stream",
     "text": [
      "Indexing word vectors...\n",
      "Found 400000 word vectors.\n"
     ]
    }
   ],
   "source": [
    "if GLOVE:\n",
    "    print('Indexing word vectors...')\n",
    "\n",
    "    embeddings_index = {}\n",
    "    f = open(os.path.join(GLOVE_DIR, 'glove.6B.50d.txt'))\n",
    "    for line in f:\n",
    "        values = line.split()\n",
    "        word = values[0]\n",
    "        coefs = np.asarray(values[1:], dtype='float32')\n",
    "        embeddings_index[word] = coefs\n",
    "    f.close()\n",
    "\n",
    "    print('Found %s word vectors.' % len(embeddings_index))"
   ]
  },
  {
   "cell_type": "code",
   "execution_count": 4,
   "metadata": {},
   "outputs": [
    {
     "name": "stdout",
     "output_type": "stream",
     "text": [
      "Processing text dataset\n",
      "Found 90 texts.\n",
      "Found 40 test texts.\n"
     ]
    }
   ],
   "source": [
    "print('Processing text dataset')\n",
    "\n",
    "authorlist = []\n",
    "def load_data(data_type, full_doc=False):\n",
    "    x = []\n",
    "    y = []\n",
    "    with open('../NLP/Gutenberg/Gutenberg/filenames_' +data_type+'.txt', 'r') as filenames:\n",
    "        for filename in filenames:\n",
    "            author = filename[:filename.index(\"_\")]\n",
    "            if author not in authorlist and len(authorlist) <10:\n",
    "                authorlist.append(author)\n",
    "            if author not in authorlist:\n",
    "                continue\n",
    "            with open('../NLP/Gutenberg/Gutenberg/'+data_type+'/'+ filename.strip(), 'r') as f:\n",
    "                if full_doc:\n",
    "                    data = f.read()\n",
    "                    x.append(data)\n",
    "                    y.append(authorlist.index(author))\n",
    "                else:\n",
    "                    data = sent_tokenize(f.read())\n",
    "                    x += data\n",
    "                    y += [authorlist.index(author)] * len(data)\n",
    "        return [x, y]\n",
    "\n",
    "texts, labels = load_data('train', full_doc=True)\n",
    "test_texts, test_labels = load_data('test', full_doc=True)\n",
    "\n",
    "print('Found %s texts.' % len(texts))\n",
    "print('Found %s test texts.' % len(test_texts))"
   ]
  },
  {
   "cell_type": "code",
   "execution_count": 5,
   "metadata": {
    "collapsed": true
   },
   "outputs": [],
   "source": [
    "tokenizer = Tokenizer(num_words=MAX_NB_WORDS)\n",
    "tokenizer.fit_on_texts(texts)\n",
    "sequences = tokenizer.texts_to_sequences(texts)\n",
    "test_sequences = tokenizer.texts_to_sequences(test_texts)"
   ]
  },
  {
   "cell_type": "code",
   "execution_count": 6,
   "metadata": {},
   "outputs": [
    {
     "name": "stdout",
     "output_type": "stream",
     "text": [
      "Found 70545 unique tokens.\n"
     ]
    }
   ],
   "source": [
    "word_index = tokenizer.word_index\n",
    "print('Found %s unique tokens.' % len(word_index))"
   ]
  },
  {
   "cell_type": "code",
   "execution_count": 7,
   "metadata": {},
   "outputs": [
    {
     "name": "stdout",
     "output_type": "stream",
     "text": [
      "Shape of data tensor: (90, 25000)\n",
      "Shape of label tensor: (90, 10)\n"
     ]
    }
   ],
   "source": [
    "data = pad_sequences(sequences, maxlen=MAX_SEQUENCE_LENGTH)\n",
    "test = pad_sequences(test_sequences, maxlen=MAX_SEQUENCE_LENGTH)\n",
    "\n",
    "labels = utils.to_categorical(np.asarray(labels))\n",
    "test_labels = utils.to_categorical(np.asarray(test_labels))\n",
    "print('Shape of data tensor:', data.shape)\n",
    "print('Shape of label tensor:', labels.shape)"
   ]
  },
  {
   "cell_type": "code",
   "execution_count": 8,
   "metadata": {
    "collapsed": true
   },
   "outputs": [],
   "source": [
    "# split the data into a training set and a validation set\n",
    "indices = np.arange(data.shape[0])\n",
    "np.random.shuffle(indices)\n",
    "data = data[indices]\n",
    "labels = labels[indices]\n",
    "num_validation_samples = int(VALIDATION_SPLIT * data.shape[0])\n",
    "\n",
    "x_train = data[:-num_validation_samples]\n",
    "y_train = labels[:-num_validation_samples]\n",
    "x_val = data[-num_validation_samples:]\n",
    "y_val = labels[-num_validation_samples:]"
   ]
  },
  {
   "cell_type": "code",
   "execution_count": 9,
   "metadata": {},
   "outputs": [
    {
     "name": "stdout",
     "output_type": "stream",
     "text": [
      "Preparing embedding matrix.\n"
     ]
    }
   ],
   "source": [
    "if GLOVE:\n",
    "    print('Preparing embedding matrix.')\n",
    "\n",
    "    num_words = min(MAX_NB_WORDS, len(word_index))\n",
    "    embedding_matrix = np.zeros((num_words, EMBEDDING_DIM))\n",
    "    for word, i in word_index.items():\n",
    "        if i >= MAX_NB_WORDS:\n",
    "            continue\n",
    "        embedding_vector = embeddings_index.get(word)\n",
    "        if embedding_vector is not None:\n",
    "            # words not found in embedding index will be all-zeros.\n",
    "            embedding_matrix[i] = embedding_vector"
   ]
  },
  {
   "cell_type": "code",
   "execution_count": 10,
   "metadata": {
    "collapsed": true
   },
   "outputs": [],
   "source": [
    "if GLOVE:\n",
    "# load pre-trained word embeddings into an Embedding layer\n",
    "# note that we set trainable = False so as to keep the embeddings fixed\n",
    "    embedding_layer = Embedding(num_words,\n",
    "                                EMBEDDING_DIM,\n",
    "                                weights=[embedding_matrix],\n",
    "                                input_length=MAX_SEQUENCE_LENGTH,\n",
    "                                trainable=False)\n",
    "else:\n",
    "    embedding_layer = Embedding(len(word_index) + 1,\n",
    "                                EMBEDDING_DIM,\n",
    "                                input_length=MAX_SEQUENCE_LENGTH)"
   ]
  },
  {
   "cell_type": "code",
   "execution_count": 11,
   "metadata": {},
   "outputs": [
    {
     "name": "stdout",
     "output_type": "stream",
     "text": [
      "Training model.\n"
     ]
    }
   ],
   "source": [
    "print('Training model.')\n",
    "\n",
    "# train a 1D convnet with global maxpooling\n",
    "sequence_input = Input(shape=(MAX_SEQUENCE_LENGTH,), dtype='int32')\n",
    "embedded_sequences = embedding_layer(sequence_input)\n",
    "x = GRU(256, dropout=0.5, recurrent_dropout=0.5, return_sequences=True)(embedded_sequences)\n",
    "x = GlobalAveragePooling1D()(x)\n",
    "# x = LSTM(128, dropout=0.2, recurrent_dropout=0.2, return_sequences=True)(embedded_sequences)\n",
    "# x = LSTM(32, dropout=0.2, recurrent_dropout=0.2)(x)\n",
    "# x = Conv1D(128, 5, activation='relu')(embedded_sequences)\n",
    "# x = MaxPooling1D(5)(x)\n",
    "# x = Conv1D(128, 5, activation='relu')(x)\n",
    "# x = MaxPooling1D(5)(x)\n",
    "# x = Conv1D(128, 5, activation='relu')(x)\n",
    "# x = MaxPooling1D(35)(x)\n",
    "# x = Flatten()(x)\n",
    "# x = Dense(128, activation='relu')(x)\n",
    "preds = Dense(len(authorlist), activation='softmax')(x)\n",
    "\n",
    "model = Model(sequence_input, preds)\n",
    "model.compile(loss='categorical_crossentropy',\n",
    "              optimizer='adam',\n",
    "              metrics=['acc'])"
   ]
  },
  {
   "cell_type": "code",
   "execution_count": null,
   "metadata": {
    "scrolled": true
   },
   "outputs": [
    {
     "name": "stdout",
     "output_type": "stream",
     "text": [
      "Train on 81 samples, validate on 9 samples\n",
      "Epoch 1/64\n",
      "80/81 [============================>.] - ETA: 2s - loss: 2.3313 - acc: 0.0875 Epoch 00000: val_loss improved from inf to 2.30002, saving model to /tmp/weights.hdf5\n",
      "81/81 [==============================] - 269s - loss: 2.3320 - acc: 0.0864 - val_loss: 2.3000 - val_acc: 0.0000e+00\n",
      "Epoch 2/64\n",
      "80/81 [============================>.] - ETA: 2s - loss: 2.3227 - acc: 0.1375 Epoch 00002: val_loss did not improve\n",
      "81/81 [==============================] - 256s - loss: 2.3302 - acc: 0.1358 - val_loss: 2.3067 - val_acc: 0.1111\n",
      "Epoch 4/64\n",
      "80/81 [============================>.] - ETA: 2s - loss: 2.2061 - acc: 0.3125 Epoch 00003: val_loss did not improve\n",
      "81/81 [==============================] - 257s - loss: 2.2087 - acc: 0.3086 - val_loss: 2.3082 - val_acc: 0.2222\n",
      "Epoch 5/64\n",
      "80/81 [============================>.] - ETA: 2s - loss: 2.2319 - acc: 0.1750 Epoch 00004: val_loss improved from 2.26213 to 2.19449, saving model to /tmp/weights.hdf5\n",
      "81/81 [==============================] - 257s - loss: 2.2317 - acc: 0.1728 - val_loss: 2.1945 - val_acc: 0.2222\n",
      "Epoch 6/64\n",
      "80/81 [============================>.] - ETA: 2s - loss: 2.1801 - acc: 0.2250 Epoch 00005: val_loss improved from 2.19449 to 1.98099, saving model to /tmp/weights.hdf5\n",
      "81/81 [==============================] - 254s - loss: 2.1803 - acc: 0.2222 - val_loss: 1.9810 - val_acc: 0.7778\n",
      "Epoch 7/64\n",
      "80/81 [============================>.] - ETA: 2s - loss: 2.2114 - acc: 0.1625 Epoch 00006: val_loss did not improve\n",
      "81/81 [==============================] - 256s - loss: 2.2029 - acc: 0.1728 - val_loss: 2.0253 - val_acc: 0.3333\n",
      "Epoch 8/64\n",
      "80/81 [============================>.] - ETA: 2s - loss: 2.1312 - acc: 0.2250 Epoch 00007: val_loss improved from 1.98099 to 1.97803, saving model to /tmp/weights.hdf5\n",
      "81/81 [==============================] - 256s - loss: 2.1369 - acc: 0.2222 - val_loss: 1.9780 - val_acc: 0.6667\n",
      "Epoch 9/64\n",
      "80/81 [============================>.] - ETA: 2s - loss: 2.0994 - acc: 0.2750 Epoch 00008: val_loss did not improve\n",
      "81/81 [==============================] - 265s - loss: 2.0968 - acc: 0.2716 - val_loss: 2.1058 - val_acc: 0.1111\n",
      "Epoch 10/64\n",
      "80/81 [============================>.] - ETA: 2s - loss: 2.0825 - acc: 0.2750 Epoch 00009: val_loss did not improve\n",
      "81/81 [==============================] - 265s - loss: 2.0833 - acc: 0.2716 - val_loss: 2.2861 - val_acc: 0.1111\n",
      "Epoch 11/64\n",
      "80/81 [============================>.] - ETA: 2s - loss: 2.0234 - acc: 0.2875 Epoch 00010: val_loss did not improve\n",
      "81/81 [==============================] - 272s - loss: 2.0309 - acc: 0.2840 - val_loss: 2.2487 - val_acc: 0.2222\n",
      "Epoch 12/64\n",
      "80/81 [============================>.] - ETA: 2s - loss: 2.0043 - acc: 0.2625 Epoch 00011: val_loss did not improve\n",
      "81/81 [==============================] - 269s - loss: 2.0121 - acc: 0.2593 - val_loss: 2.1434 - val_acc: 0.1111\n",
      "Epoch 13/64\n",
      "80/81 [============================>.] - ETA: 2s - loss: 1.6105 - acc: 0.4250 Epoch 00049: val_loss did not improve\n",
      "81/81 [==============================] - 269s - loss: 1.6168 - acc: 0.4198 - val_loss: 1.4682 - val_acc: 0.3333\n",
      "Epoch 51/64\n",
      "80/81 [============================>.] - ETA: 2s - loss: 1.5788 - acc: 0.4500 Epoch 00050: val_loss did not improve\n",
      "81/81 [==============================] - 274s - loss: 1.5768 - acc: 0.4568 - val_loss: 1.7578 - val_acc: 0.2222\n",
      "Epoch 52/64\n",
      "40/81 [=============>................] - ETA: 120s - loss: 1.6561 - acc: 0.4500"
     ]
    }
   ],
   "source": [
    "from keras.callbacks import ModelCheckpoint\n",
    "checkpointer = ModelCheckpoint(filepath='/tmp/weights.hdf5', verbose=1, save_best_only=True)\n",
    "\n",
    "model.fit(x_train, y_train,\n",
    "          batch_size=10,\n",
    "          epochs=64,\n",
    "#           validation_split=0.1,\n",
    "          validation_data=(x_val, y_val),\n",
    "          callbacks=[checkpointer])"
   ]
  },
  {
   "cell_type": "code",
   "execution_count": 13,
   "metadata": {},
   "outputs": [
    {
     "name": "stdout",
     "output_type": "stream",
     "text": [
      "_________________________________________________________________\n",
      "Layer (type)                 Output Shape              Param #   \n",
      "=================================================================\n",
      "input_1 (InputLayer)         (None, 25000)             0         \n",
      "_________________________________________________________________\n",
      "embedding_1 (Embedding)      (None, 25000, 50)         2500000   \n",
      "_________________________________________________________________\n",
      "gru_1 (GRU)                  (None, 25000, 256)        235776    \n",
      "_________________________________________________________________\n",
      "global_average_pooling1d_1 ( (None, 256)               0         \n",
      "_________________________________________________________________\n",
      "dense_1 (Dense)              (None, 10)                2570      \n",
      "=================================================================\n",
      "Total params: 2,738,346\n",
      "Trainable params: 238,346\n",
      "Non-trainable params: 2,500,000\n",
      "_________________________________________________________________\n",
      "40/40 [==============================] - 7s\n",
      "Test score:\n",
      " 1.66639518738\n",
      "Test accuracy:\n",
      " 0.425000011921\n"
     ]
    }
   ],
   "source": [
    "model.summary()\n",
    "\n",
    "score, acc = model.evaluate(pad_sequences(test_sequences, maxlen=MAX_SEQUENCE_LENGTH), test_labels, batch_size=64)\n",
    "print('Test score:\\n', score)\n",
    "print('Test accuracy:\\n', acc)"
   ]
  },
  {
   "cell_type": "code",
   "execution_count": null,
   "metadata": {
    "collapsed": true
   },
   "outputs": [],
   "source": []
  }
 ],
 "metadata": {
  "kernelspec": {
   "display_name": "Python 3",
   "language": "python",
   "name": "python3"
  },
  "language_info": {
   "codemirror_mode": {
    "name": "ipython",
    "version": 3
   },
   "file_extension": ".py",
   "mimetype": "text/x-python",
   "name": "python",
   "nbconvert_exporter": "python",
   "pygments_lexer": "ipython3",
   "version": "3.4.3"
  }
 },
 "nbformat": 4,
 "nbformat_minor": 2
}
